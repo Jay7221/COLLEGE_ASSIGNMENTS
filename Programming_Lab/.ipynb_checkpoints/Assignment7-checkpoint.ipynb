{
 "cells": [
  {
   "cell_type": "markdown",
   "id": "bd5a414e",
   "metadata": {},
   "source": [
    "# Assignment 7"
   ]
  },
  {
   "cell_type": "markdown",
   "id": "e5c1f5dd",
   "metadata": {},
   "source": [
    "## Problem 1"
   ]
  },
  {
   "cell_type": "code",
   "execution_count": 5,
   "id": "ccf77387",
   "metadata": {},
   "outputs": [
    {
     "name": "stdout",
     "output_type": "stream",
     "text": [
      "The number of illiterate men is : 27040, and illiterate women is : 14560\n"
     ]
    }
   ],
   "source": [
    "total_population = 80000\n",
    "percent_men = 52 / 100\n",
    "literacy = 48 / 100\n",
    "literacy_men = 35 / 100\n",
    "\n",
    "percent_women = 1 - percent_men\n",
    "number_men = percent_men * total_population\n",
    "number_women = percent_women * total_population\n",
    "total_literate = literacy * total_population\n",
    "literate_men = literacy_men * number_men\n",
    "literate_women = total_literate - literate_men\n",
    "illiterate_men = number_men - literate_men\n",
    "illiterate_women = number_women - literate_women\n",
    "\n",
    "print(\"The number of illiterate men is : %d, and illiterate women is : %d\"%\n",
    "      (illiterate_men, illiterate_women))"
   ]
  },
  {
   "cell_type": "markdown",
   "id": "bec1f4f9",
   "metadata": {},
   "source": [
    "## Problem 2"
   ]
  },
  {
   "cell_type": "code",
   "execution_count": 6,
   "id": "42ca3b92",
   "metadata": {},
   "outputs": [
    {
     "name": "stdout",
     "output_type": "stream",
     "text": [
      "Input the amount to be withdrawn : 4450\n",
      "Give 44 notes of 100, 1 notes of 50, 0 notes of 10\n"
     ]
    }
   ],
   "source": [
    "def get_notes(n):\n",
    "    hundred = n / 100\n",
    "    n = n % 100\n",
    "    fifty = n / 50\n",
    "    n = n % 50\n",
    "    ten = n / 10\n",
    "    print(\"Give %d notes of 100, %d notes of 50, %d notes of 10\" % (hundred, fifty, ten))\n",
    "    \n",
    "n = int(input(\"Input the amount to be withdrawn : \"))\n",
    "get_notes(n)"
   ]
  },
  {
   "cell_type": "markdown",
   "id": "d247e607",
   "metadata": {},
   "source": [
    "## Problem 3"
   ]
  },
  {
   "cell_type": "code",
   "execution_count": 8,
   "id": "368f9548",
   "metadata": {},
   "outputs": [
    {
     "name": "stdout",
     "output_type": "stream",
     "text": [
      "Enter the number of subjects in which the student failed : 1\n",
      "Enter the class obtained by the student : First\n",
      "The student will get 5 grace marks\n"
     ]
    }
   ],
   "source": [
    "def getGraceMarks(Class, numberFailSubjects):\n",
    "    if Class == 'First' and numberFailSubjects > 3:\n",
    "        return 0\n",
    "    if numberFailSubjects <= 3:\n",
    "        return (5 * numberFailSubjects)\n",
    "    if Class == 'Second' and numberFailSubjects > 2:\n",
    "        return 0\n",
    "    if numberFailSubjects <= 2:\n",
    "        return (4 * numberFailSubjects)\n",
    "    if Class == 'Third' and numberFailSubjects > 1:\n",
    "        return 0\n",
    "    if numberFailSubjects == 1:\n",
    "        return 5\n",
    "\n",
    "n = int(input(\"Enter the number of subjects in which the student failed : \"))\n",
    "Class = input(\"Enter the class obtained by the student : \")\n",
    "print(\"The student will get %d grace marks\"%(getGraceMarks(Class, n)))"
   ]
  },
  {
   "cell_type": "markdown",
   "id": "1f1a2168",
   "metadata": {},
   "source": [
    "## Problem 4"
   ]
  },
  {
   "cell_type": "code",
   "execution_count": 11,
   "id": "9c6880b7",
   "metadata": {},
   "outputs": [
    {
     "name": "stdout",
     "output_type": "stream",
     "text": [
      "Enter the number of rows in matrix : 3\n",
      "1 0 0\n",
      "0 1 0\n",
      "0 0 1\n",
      "Enter the number of rows in matrix : 3\n",
      "3 21 4\n",
      "12 8 3\n",
      "34 9 43\n",
      "[3, 21, 4]\n",
      "[12, 8, 3]\n",
      "[34, 9, 43]\n"
     ]
    }
   ],
   "source": [
    "def multiply(A, B):\n",
    "    if(len(A[0]) != len(B)):\n",
    "        print('Matrix multiplicaton not possible')\n",
    "        return False\n",
    "    n = len(A)\n",
    "    m = len(B[0])\n",
    "    s = len(A[0])\n",
    "    C = []\n",
    "    for i in range(n):\n",
    "        C.append([])\n",
    "        for j in range(m):\n",
    "            C[i].append(0)\n",
    "            for k in range(s):\n",
    "                C[i][j] += A[i][k] * B[k][j]\n",
    "    return C\n",
    "\n",
    "def printMatrix(M):\n",
    "    for row in M:\n",
    "        print(row)\n",
    "\n",
    "def inputMatrix():\n",
    "    M = []\n",
    "    n = int(input(\"Enter the number of rows in matrix : \"))\n",
    "    for i in range(n):\n",
    "        row = list(map(int, input().strip().split()))\n",
    "        M.append(row)\n",
    "    return M\n",
    "\n",
    "A = inputMatrix()\n",
    "B = inputMatrix()\n",
    "printMatrix(multiply(A, B))"
   ]
  },
  {
   "cell_type": "markdown",
   "id": "d5971e23",
   "metadata": {},
   "source": [
    "## Problem 5"
   ]
  },
  {
   "cell_type": "code",
   "execution_count": 12,
   "id": "e530cae3",
   "metadata": {},
   "outputs": [
    {
     "name": "stdout",
     "output_type": "stream",
     "text": [
      "Enter a string : sd asdkfl asdk salerw fgas skad\n",
      "The number of spaces is : 5\n"
     ]
    }
   ],
   "source": [
    "def countSpaces(s):\n",
    "    ans = 0\n",
    "    for character in s:\n",
    "        if character == ' ':\n",
    "            ans += 1\n",
    "    return ans\n",
    "\n",
    "s = input(\"Enter a string : \")\n",
    "print(\"The number of spaces is : %d\"%countSpaces(s))"
   ]
  },
  {
   "cell_type": "markdown",
   "id": "c6f96f5f",
   "metadata": {},
   "source": [
    "## Problem 6"
   ]
  },
  {
   "cell_type": "code",
   "execution_count": 19,
   "id": "92f7b9b8",
   "metadata": {},
   "outputs": [
    {
     "name": "stdout",
     "output_type": "stream",
     "text": [
      "Enter the initial population : 34\n",
      "Enter the rate of growth : 1\n",
      "Enter the amount of required to achieve this growth : 1\n",
      "Population at time 0 : 34.000000\n",
      "Population at time 1 : 34.340000\n",
      "Population at time 2 : 34.683400\n",
      "Population at time 3 : 35.030234\n",
      "Population at time 4 : 35.380536\n",
      "Population at time 5 : 35.734342\n",
      "Population at time 6 : 36.091685\n",
      "Population at time 7 : 36.452602\n",
      "Population at time 8 : 36.817128\n",
      "Population at time 9 : 37.185299\n"
     ]
    }
   ],
   "source": [
    "def getPopulation(initialPopulation, rateOfGrowth, growthPeriod, numberDoublings):\n",
    "    ans = initialPopulation\n",
    "    for i in range(numberDoublings):\n",
    "        ans = ans * (1 + rateOfGrowth / 100)\n",
    "    return ans\n",
    "\n",
    "initialPopulation = int(input(\"Enter the initial population : \"))\n",
    "rateOfGrowth = int(input(\"Enter the rate of growth : \"))\n",
    "growthPeriod = int(input(\"Enter the amount of required to achieve this growth : \"))\n",
    "\n",
    "MAX = 10\n",
    "for i in range(MAX):\n",
    "    print(\"Population at time %d : %f\" % (i * growthPeriod, \n",
    "getPopulation(initialPopulation, rateOfGrowth, growthPeriod, i)))\n",
    "\n",
    "    "
   ]
  },
  {
   "cell_type": "markdown",
   "id": "8c020454",
   "metadata": {},
   "source": [
    "## Problem 7"
   ]
  },
  {
   "cell_type": "code",
   "execution_count": 42,
   "id": "7034168c",
   "metadata": {},
   "outputs": [
    {
     "name": "stdout",
     "output_type": "stream",
     "text": [
      "* * * * \n",
      "  * * * \n",
      "    * * \n",
      "      * \n"
     ]
    }
   ],
   "source": [
    "def print1(n):\n",
    "    for i in range(1, n + 1):\n",
    "        s = \" \" * (n - i)\n",
    "        s += (\"* \" * i).strip()\n",
    "        print(s)\n",
    "\n",
    "def print2(n):\n",
    "    for i in range(n, 0, -1):\n",
    "        s = \" \" * (n - i)\n",
    "        s += (\"* \" * i).strip()\n",
    "        print(s)\n",
    "        \n",
    "def print3(n):\n",
    "    print1(n)\n",
    "    for i in range(n - 1, 0, -1):\n",
    "        s = \" \" * (n - i)\n",
    "        s += (\"* \" * i).strip()\n",
    "        print(s)\n",
    "\n",
    "def print5(n):\n",
    "    for i in range(1, n + 1):\n",
    "        s = \"* \" * i\n",
    "        s.strip()\n",
    "        print(s)\n",
    "        \n",
    "def print6(n):\n",
    "    for i in range(n, 0, -1):\n",
    "        s = \"* \" * i\n",
    "        s.strip()\n",
    "        print(s)\n",
    "        \n",
    "def print7(n):\n",
    "    for i in range(1, n + 1):\n",
    "        s = \"  \" * (n - i)\n",
    "        s += (\"* \") * i\n",
    "        print(s)\n",
    "        \n",
    "def print8(n):\n",
    "    for i in range(n, 0, -1):\n",
    "        s = \"  \" * (n - i)\n",
    "        s += (\"* \") * i\n",
    "        print(s)\n",
    "        \n",
    "def print9(n):\n",
    "    \n",
    "        \n",
    "print8(4)"
   ]
  },
  {
   "cell_type": "code",
   "execution_count": null,
   "id": "704f829c",
   "metadata": {},
   "outputs": [],
   "source": []
  }
 ],
 "metadata": {
  "kernelspec": {
   "display_name": "Python 3 (ipykernel)",
   "language": "python",
   "name": "python3"
  },
  "language_info": {
   "codemirror_mode": {
    "name": "ipython",
    "version": 3
   },
   "file_extension": ".py",
   "mimetype": "text/x-python",
   "name": "python",
   "nbconvert_exporter": "python",
   "pygments_lexer": "ipython3",
   "version": "3.8.10"
  }
 },
 "nbformat": 4,
 "nbformat_minor": 5
}
