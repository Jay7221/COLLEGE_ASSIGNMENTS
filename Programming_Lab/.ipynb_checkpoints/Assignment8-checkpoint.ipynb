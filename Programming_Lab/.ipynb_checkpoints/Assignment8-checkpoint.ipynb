{
 "cells": [
  {
   "cell_type": "markdown",
   "id": "e63dc894",
   "metadata": {},
   "source": [
    "# Assignment 8"
   ]
  },
  {
   "cell_type": "markdown",
   "id": "d6aa6b2d",
   "metadata": {},
   "source": [
    "## Problem 1"
   ]
  },
  {
   "cell_type": "code",
   "execution_count": 16,
   "id": "2bbe7674",
   "metadata": {},
   "outputs": [
    {
     "name": "stdout",
     "output_type": "stream",
     "text": [
      "a) [1.5, 'Python', -5, 4, 0, 8, -3.2, 'C++']\n",
      "b) [1.5, 'Python', -5, 4, 0, 8, -3.2, 'C++', 0.8]\n",
      "c) [1.5, 'Python', -5, 4, 0, 8, -3.2, 'C++', 0.8, 1, 1.5, 6, 0, 8]\n",
      "d) [1.5, 'Python', 500, -5, 4, 0, 8, -3.2, 'C++', 0.8, 1, 1.5, 6, 0, 8]\n",
      "e) [1.5, 'Python', 500, -5, 4, 0, 8, -3.2, 0.8, 1, 1.5, 6, 0, 8]\n",
      "f) [1.5, 'Python', 500, -5, 4, 8, -3.2, 0.8, 1, 1.5, 6, 0, 8]\n",
      "g) Index of element -5 is : 3\n",
      "h) Occruence of 4 in lst is :  1\n",
      "i) [500, -5, 4, 8]\n",
      "j) [8, 0, 6, 1.5, 1, 0.8, -3.2, 8, 4, -5, 500, 'Python', 1.5]\n",
      "k) [8, 0, 6, 1.5, 1, 0.8, -3.2, 8, 4, -5, 500, 'Python', 1.5]\n"
     ]
    }
   ],
   "source": [
    "lst = [1.5, \"Python\", -5, 4, 0, 8, -3.2, 'C++']\n",
    "print('a)', lst)\n",
    "lst.append(0.8)\n",
    "print('b)', lst)\n",
    "lst.extend([1, 1.5, 6, 0, 8])\n",
    "print('c)', lst)\n",
    "lst.insert(2, 500)\n",
    "print('d)', lst)\n",
    "lst.remove('C++')\n",
    "print('e)', lst)\n",
    "lst.pop(5)\n",
    "print('f)', lst)\n",
    "print('g)', 'Index of element -5 is :' ,lst.index(-5))\n",
    "print('h)', 'Occruence of 4 in lst is : ', lst.count(4))\n",
    "print('i)', lst[2:6])\n",
    "lst.reverse()\n",
    "print('j)', lst)\n",
    "newLst = lst.copy()\n",
    "print('k)', newLst)"
   ]
  },
  {
   "cell_type": "markdown",
   "id": "a17ebf55",
   "metadata": {},
   "source": [
    "## Problem 2"
   ]
  },
  {
   "cell_type": "code",
   "execution_count": 33,
   "id": "2c9cabac",
   "metadata": {},
   "outputs": [
    {
     "name": "stdout",
     "output_type": "stream",
     "text": [
      "dict_keys(['Jay', 'Rahul'])\n",
      "dict_values([34, 43])\n",
      "Roll No. of  Jay 34\n",
      "Roll No. of  Rahul 43\n",
      "Roll No. of  Chinmay NOT AVALIABLE\n",
      "Value\n",
      "{'Jay': 34, 'Rahul': 43, 'Chinmay': 'NOT AVALIABLE'}\n",
      "{'Jay': 34, 'Rahul': 43, 'Chinmay': 'NOT AVALIABLE'}\n",
      "3\n"
     ]
    }
   ],
   "source": [
    "newDict = {'Jay' : 34, 'Rahul' : 43}\n",
    "print(newDict.keys())\n",
    "print(newDict.values())\n",
    "for name in ['Jay', 'Rahul', 'Chinmay']:\n",
    "    newDict.setdefault(name, 'NOT AVALIABLE')\n",
    "    print('Roll No. of ', name, newDict[name])\n",
    "newDict['newKey'] = 'Value'\n",
    "print(newDict['newKey'])\n",
    "del newDict['newKey']\n",
    "print(newDict)\n",
    "copyDict = newDict.copy()\n",
    "print(copyDict)\n",
    "print(len(newDict))\n",
    "del newDict"
   ]
  },
  {
   "cell_type": "markdown",
   "id": "74382a0a",
   "metadata": {},
   "source": [
    "## Problem 3"
   ]
  },
  {
   "cell_type": "code",
   "execution_count": null,
   "id": "e0acea64",
   "metadata": {},
   "outputs": [],
   "source": []
  }
 ],
 "metadata": {
  "kernelspec": {
   "display_name": "Python 3 (ipykernel)",
   "language": "python",
   "name": "python3"
  },
  "language_info": {
   "codemirror_mode": {
    "name": "ipython",
    "version": 3
   },
   "file_extension": ".py",
   "mimetype": "text/x-python",
   "name": "python",
   "nbconvert_exporter": "python",
   "pygments_lexer": "ipython3",
   "version": "3.8.10"
  }
 },
 "nbformat": 4,
 "nbformat_minor": 5
}
